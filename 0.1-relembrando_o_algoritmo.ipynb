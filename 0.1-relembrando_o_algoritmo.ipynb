{
 "cells": [
  {
   "cell_type": "code",
   "execution_count": 1,
   "metadata": {
    "tags": []
   },
   "outputs": [
    {
     "output_type": "execute_result",
     "data": {
      "text/plain": "6.0"
     },
     "metadata": {},
     "execution_count": 1
    }
   ],
   "source": [
    "import numpy as np\n",
    "\n",
    "from numpy import polynomial\n",
    "from numpy.polynomial.polynomial import Polynomial\n",
    "from numpy.polynomial.polynomial import polyval\n",
    "\n",
    "pol = Polynomial([1,2,3])\n",
    "\n",
    "pol(1)"
   ]
  },
  {
   "cell_type": "markdown",
   "metadata": {},
   "source": [
    "Dado um polinomio $p(x) = 4 - 4x^2 + 3x^3$, podemos obter o valor do do polinomio no ponto x utilizando a função `polyval`"
   ]
  },
  {
   "cell_type": "code",
   "execution_count": 2,
   "metadata": {
    "tags": []
   },
   "outputs": [
    {
     "output_type": "stream",
     "name": "stdout",
     "text": "poly([ 4.  0. -4.  3.])\n-3 -113.0\n-2 -36.0\n-1 -3.0\n0 4.0\n1 3.0\n2 12.0\n"
    }
   ],
   "source": [
    "pol2 = Polynomial([4, 0, -4, 3])\n",
    "print(pol2)\n",
    "\n",
    "for x in range(-3, 3):\n",
    "    print(x, pol2(x))"
   ]
  },
  {
   "cell_type": "code",
   "execution_count": 3,
   "metadata": {},
   "outputs": [
    {
     "output_type": "execute_result",
     "data": {
      "text/plain": "(array([-3., -2., -1.,  0.,  1.,  2.]),\n array([-113.,  -36.,   -3.,    4.,    3.,   12.]))"
     },
     "metadata": {},
     "execution_count": 3
    }
   ],
   "source": [
    "pol2.linspace(6, domain=[-3,2])"
   ]
  },
  {
   "cell_type": "markdown",
   "metadata": {},
   "source": [
    "### Trabalhando com matriz no numpy\n"
   ]
  },
  {
   "cell_type": "code",
   "execution_count": 4,
   "metadata": {},
   "outputs": [
    {
     "output_type": "execute_result",
     "data": {
      "text/plain": "matrix([[1, 2, 5],\n        [1, 4, 3],\n        [1, 2, 8]])"
     },
     "metadata": {},
     "execution_count": 4
    }
   ],
   "source": [
    "matriz = np.matrix([[1,2,5],\n",
    "           [1,4,3],\n",
    "           [1,2,8]])\n",
    "\n",
    "matriz"
   ]
  },
  {
   "cell_type": "code",
   "execution_count": 5,
   "metadata": {
    "tags": []
   },
   "outputs": [
    {
     "output_type": "stream",
     "name": "stdout",
     "text": "3 3\n"
    }
   ],
   "source": [
    "linhas, colunas = matriz.shape\n",
    "regioes_x, regioes_y = (colunas - 1), (linhas - 1)\n",
    "\n",
    "print(linhas, colunas)"
   ]
  },
  {
   "cell_type": "code",
   "execution_count": 6,
   "metadata": {
    "tags": []
   },
   "outputs": [
    {
     "output_type": "execute_result",
     "data": {
      "text/plain": "(1, 2, 8)"
     },
     "metadata": {},
     "execution_count": 6
    }
   ],
   "source": [
    "polinomio_size = 16 * (linhas - 1) * (colunas - 1)\n",
    "\n",
    "matriz[2,0], matriz[2,1], matriz[2,2]"
   ]
  },
  {
   "cell_type": "code",
   "execution_count": 7,
   "metadata": {},
   "outputs": [
    {
     "output_type": "execute_result",
     "data": {
      "text/plain": "[True, False, True, False, False, False, True, False, True]"
     },
     "metadata": {},
     "execution_count": 7
    }
   ],
   "source": [
    "def line_edge(i , matriz):\n",
    "    linhas, _ = matriz.shape\n",
    "    return i == 0 or i == linhas - 1\n",
    "\n",
    "\n",
    "def column_edge(i, matriz):\n",
    "    _, colunas = matriz.shape\n",
    "    return i == 0 or i == colunas - 1\n",
    "\n",
    "[line_edge(x, matriz) and column_edge(y, matriz) for x in range(linhas) for y in range(colunas)]\n"
   ]
  },
  {
   "cell_type": "markdown",
   "metadata": {},
   "source": [
    "## Polinomio\n",
    "\n",
    "Criando o polinomio no eixo de $x$ e $y$ e aplicando a derivada"
   ]
  },
  {
   "cell_type": "code",
   "execution_count": 8,
   "metadata": {},
   "outputs": [
    {
     "output_type": "execute_result",
     "data": {
      "text/plain": "[1, 2, 4, 8, 1, 2, 4, 8, 1, 2, 4, 8, 1, 2, 4, 8]"
     },
     "metadata": {},
     "execution_count": 8
    }
   ],
   "source": [
    "x = 1\n",
    "y = 2\n",
    "\n",
    "x1y2 = [ x**i * y**j for i in range(4) for j in range(4)]\n",
    "x1y2"
   ]
  },
  {
   "cell_type": "code",
   "execution_count": 9,
   "metadata": {},
   "outputs": [],
   "source": [
    "def fx(x, y):\n",
    "    return [ x**i * y**j for i in range(4) for j in range(4)]\n",
    "\n",
    "def dx(x, y):\n",
    "    return [ i*  x**(i-1) * y**j if i > 0 else 0 for i in range(4) for j in range(4)]\n",
    "\n",
    "\n",
    "def dy(x, y):\n",
    "    return [ x**i * j * y**(j-1) if j > 0 else 0 for i in range(4) for j in range(4)]\n",
    "\n",
    "\n",
    "def dxdy(x, y):\n",
    "    return [ i * x**(i-1) * j * y**(j-1) if (i > 0 and j > 0) else 0 for i in range(4) for j in range(4)]\n",
    "\n",
    "\n",
    "def dxx(x, y):\n",
    "    return [ (i * (i-1) * x**(i-2)) * (y**j) if i > 1 else 0 for i in range(4) for j in range(4)]\n",
    "\n",
    "\n",
    "def dyy(x, y):\n",
    "    return [ (x**i) * (j * (j-1) * y**(j-2)) if j > 1 else 0 for i in range(4) for j in range(4)]\n"
   ]
  },
  {
   "cell_type": "markdown",
   "metadata": {},
   "source": [
    "Vamos verificar agora como fazer o reshape do vetor e coloca-lo na matriz\n",
    "\n",
    "O objetivo aqui é colocar uma lista dentro de uma lista já existente. E por fim, excluir o excedente.\n",
    "\n",
    "\n",
    "exemplo com array normal"
   ]
  },
  {
   "cell_type": "code",
   "execution_count": 10,
   "metadata": {
    "tags": []
   },
   "outputs": [
    {
     "output_type": "stream",
     "name": "stdout",
     "text": "[0 1 2 3]\n[0, 9, 9, 1, 2, 3]\n[0, 9, 9, 1]\n"
    }
   ],
   "source": [
    "ma1 = np.arange(4)\n",
    "print(ma1)\n",
    "\n",
    "ma2 = ma1.tolist()[:1] + [9,9] + ma1.tolist()[1:]\n",
    "print(ma2)\n",
    "ma2 = ma2[:4]\n",
    "print(ma2)\n"
   ]
  },
  {
   "cell_type": "markdown",
   "metadata": {},
   "source": [
    "exemplo utilizando o ndarray"
   ]
  },
  {
   "cell_type": "code",
   "execution_count": 11,
   "metadata": {
    "tags": []
   },
   "outputs": [
    {
     "output_type": "stream",
     "name": "stdout",
     "text": "[0 1 2 3]\n<class 'numpy.ndarray'>\n[9 9]\n<class 'numpy.ndarray'>\n[0 9 9 3]\n"
    }
   ],
   "source": [
    "ma1 = np.arange(4)\n",
    "print(ma1)\n",
    "print(type(ma1))\n",
    "\n",
    "to_insert = np.array([9,9])\n",
    "print(to_insert)\n",
    "print(type(to_insert))\n",
    "\n",
    "ma1.put(range(1,3), to_insert)\n",
    "print(ma1)\n"
   ]
  },
  {
   "cell_type": "markdown",
   "metadata": {},
   "source": [
    "## Trabalhando com o algoritmo\n",
    "\n",
    "Agora vou tentar replicar toda a solução em casa.\n",
    "Abaixo tentarei percorres todos os pontos e pegas as sua caracteristica, regiao e polinomio\n"
   ]
  },
  {
   "cell_type": "code",
   "execution_count": 12,
   "metadata": {},
   "outputs": [],
   "source": [
    "def getRange(coluna, linha):\n",
    "    inicio_range = 16 * ((linhas-1) * coluna + linha)\n",
    "    return range(inicio_range, inicio_range + 16)"
   ]
  },
  {
   "cell_type": "code",
   "execution_count": 13,
   "metadata": {
    "tags": []
   },
   "outputs": [
    {
     "output_type": "stream",
     "name": "stdout",
     "text": "range(0, 16)\nrange(16, 32)\nrange(32, 48)\nrange(48, 64)\n"
    }
   ],
   "source": [
    "print(getRange(0,0))\n",
    "print(getRange(0,1))\n",
    "print(getRange(1,0))\n",
    "print(getRange(1,1))"
   ]
  },
  {
   "cell_type": "markdown",
   "metadata": {},
   "source": [
    "### Funções auxiliares\n",
    "\n",
    "Vou colocar funções auxiliares para a construção do polinomio principal. Essas funções transformarao as regras em uma grande matriz de $16*linhas*colunas$"
   ]
  },
  {
   "cell_type": "code",
   "execution_count": 14,
   "metadata": {},
   "outputs": [],
   "source": [
    "def getLineFromList(itens):\n",
    "    line = np.zeros(polinomio_size)\n",
    "\n",
    "    for (f, x, y, *posicoes, positivo) in itens:\n",
    "        if(len(posicoes)==0):\n",
    "            coluna, linha = (x - 1 if x > 0 else 0, y - 1 if y > 0 else 0)\n",
    "        elif(len(posicoes)==2):\n",
    "            coluna, linha = posicoes\n",
    "        else:\n",
    "            raise Exception('Wrong number of arguments. Expected 4 or 6 but received %d' % (len(item)))\n",
    "\n",
    "        range_para_inserir = getRange(coluna, linha)        \n",
    "        pol = np.array(f(x,y)) if positivo else np.array(f(x,y)) * -1\n",
    "    \n",
    "        line.put(range_para_inserir, pol)\n",
    "    return line"
   ]
  },
  {
   "cell_type": "code",
   "execution_count": 15,
   "metadata": {},
   "outputs": [],
   "source": [
    "def getLineFromTuple(item):\n",
    "    line = np.zeros(polinomio_size)\n",
    "\n",
    "    f, x, y, *posicoes, positivo = item\n",
    "\n",
    "    if(len(posicoes)==0):\n",
    "        coluna, linha = (x - 1 if x > 0 else 0, y - 1 if y > 0 else 0)\n",
    "    elif(len(posicoes)==2):\n",
    "        coluna, linha = posicoes\n",
    "    else:\n",
    "        raise Exception('Wrong number of arguments. Expected 4 or 6 but received %d' % (len(item)))\n",
    "\n",
    "    range_para_inserir = getRange(coluna, linha)\n",
    "    \n",
    "    pol = np.array(f(x,y)) if positivo else np.array(f(x,y)) * -1\n",
    "\n",
    "    line.put(range_para_inserir, pol)\n",
    "    return line"
   ]
  },
  {
   "cell_type": "code",
   "execution_count": 16,
   "metadata": {
    "tags": []
   },
   "outputs": [
    {
     "output_type": "execute_result",
     "data": {
      "text/plain": "array([0., 0., 0., 0., 0., 0., 0., 0., 0., 0., 0., 0., 0., 0., 0., 0., 1.,\n       1., 1., 1., 0., 0., 0., 0., 0., 0., 0., 0., 0., 0., 0., 0., 0., 0.,\n       0., 0., 0., 0., 0., 0., 0., 0., 0., 0., 0., 0., 0., 0., 0., 0., 0.,\n       0., 0., 0., 0., 0., 0., 0., 0., 0., 0., 0., 0., 0.])"
     },
     "metadata": {},
     "execution_count": 16
    }
   ],
   "source": [
    "x = 0\n",
    "y = 1\n",
    "\n",
    "coluna = x - 1 if x > 0 else 0\n",
    "linha = y - 1 if y > 0 else 0\n",
    "\n",
    "l = (fx, x, y, coluna, linha + 1, True)\n",
    "getLineFromTuple(l)"
   ]
  },
  {
   "cell_type": "markdown",
   "metadata": {},
   "source": [
    "## Vértice"
   ]
  },
  {
   "cell_type": "markdown",
   "metadata": {},
   "source": [
    "Tratando todas as 4 linhas criadas pelos vértice"
   ]
  },
  {
   "cell_type": "code",
   "execution_count": 17,
   "metadata": {
    "tags": []
   },
   "outputs": [],
   "source": [
    "def vertice(x, y):\n",
    "    coluna, linha = (x - 1 if x > 0 else 0, y - 1 if y > 0 else 0)\n",
    "\n",
    "    range_para_inserir = getRange(coluna, linha)\n",
    "\n",
    "    funcoes_vertices = [\n",
    "        (fx, x, y, True),\n",
    "        (dxx, x, y, True),\n",
    "        (dyy, x, y, True),\n",
    "        (dxdy, x, y, True),\n",
    "    ]\n",
    "\n",
    "    pols = np.array([])\n",
    "    for item in funcoes_vertices:\n",
    "        pols = np.append(pols, getLineFromTuple(item))\n",
    "\n",
    "    return np.reshape(pols, (-1, polinomio_size))\n"
   ]
  },
  {
   "cell_type": "code",
   "execution_count": 18,
   "metadata": {},
   "outputs": [
    {
     "output_type": "execute_result",
     "data": {
      "text/plain": "array([[1., 0., 0., 0., 0., 0., 0., 0., 0., 0., 0., 0., 0., 0., 0., 0.,\n        0., 0., 0., 0., 0., 0., 0., 0., 0., 0., 0., 0., 0., 0., 0., 0.,\n        0., 0., 0., 0., 0., 0., 0., 0., 0., 0., 0., 0., 0., 0., 0., 0.,\n        0., 0., 0., 0., 0., 0., 0., 0., 0., 0., 0., 0., 0., 0., 0., 0.],\n       [0., 0., 0., 0., 0., 0., 0., 0., 2., 0., 0., 0., 0., 0., 0., 0.,\n        0., 0., 0., 0., 0., 0., 0., 0., 0., 0., 0., 0., 0., 0., 0., 0.,\n        0., 0., 0., 0., 0., 0., 0., 0., 0., 0., 0., 0., 0., 0., 0., 0.,\n        0., 0., 0., 0., 0., 0., 0., 0., 0., 0., 0., 0., 0., 0., 0., 0.],\n       [0., 0., 2., 0., 0., 0., 0., 0., 0., 0., 0., 0., 0., 0., 0., 0.,\n        0., 0., 0., 0., 0., 0., 0., 0., 0., 0., 0., 0., 0., 0., 0., 0.,\n        0., 0., 0., 0., 0., 0., 0., 0., 0., 0., 0., 0., 0., 0., 0., 0.,\n        0., 0., 0., 0., 0., 0., 0., 0., 0., 0., 0., 0., 0., 0., 0., 0.],\n       [0., 0., 0., 0., 0., 1., 0., 0., 0., 0., 0., 0., 0., 0., 0., 0.,\n        0., 0., 0., 0., 0., 0., 0., 0., 0., 0., 0., 0., 0., 0., 0., 0.,\n        0., 0., 0., 0., 0., 0., 0., 0., 0., 0., 0., 0., 0., 0., 0., 0.,\n        0., 0., 0., 0., 0., 0., 0., 0., 0., 0., 0., 0., 0., 0., 0., 0.]])"
     },
     "metadata": {},
     "execution_count": 18
    }
   ],
   "source": [
    "vertice(0,0)"
   ]
  },
  {
   "cell_type": "code",
   "execution_count": 19,
   "metadata": {},
   "outputs": [
    {
     "output_type": "execute_result",
     "data": {
      "text/plain": "array([[ 0.,  0.,  0.,  0.,  0.,  0.,  0.,  0.,  0.,  0.,  0.,  0.,  0.,\n         0.,  0.,  0.,  0.,  0.,  0.,  0.,  0.,  0.,  0.,  0.,  0.,  0.,\n         0.,  0.,  0.,  0.,  0.,  0.,  1.,  0.,  0.,  0.,  2.,  0.,  0.,\n         0.,  4.,  0.,  0.,  0.,  8.,  0.,  0.,  0.,  0.,  0.,  0.,  0.,\n         0.,  0.,  0.,  0.,  0.,  0.,  0.,  0.,  0.,  0.,  0.,  0.],\n       [ 0.,  0.,  0.,  0.,  0.,  0.,  0.,  0.,  0.,  0.,  0.,  0.,  0.,\n         0.,  0.,  0.,  0.,  0.,  0.,  0.,  0.,  0.,  0.,  0.,  0.,  0.,\n         0.,  0.,  0.,  0.,  0.,  0.,  0.,  0.,  0.,  0.,  0.,  0.,  0.,\n         0.,  2.,  0.,  0.,  0., 12.,  0.,  0.,  0.,  0.,  0.,  0.,  0.,\n         0.,  0.,  0.,  0.,  0.,  0.,  0.,  0.,  0.,  0.,  0.,  0.],\n       [ 0.,  0.,  0.,  0.,  0.,  0.,  0.,  0.,  0.,  0.,  0.,  0.,  0.,\n         0.,  0.,  0.,  0.,  0.,  0.,  0.,  0.,  0.,  0.,  0.,  0.,  0.,\n         0.,  0.,  0.,  0.,  0.,  0.,  0.,  0.,  2.,  0.,  0.,  0.,  4.,\n         0.,  0.,  0.,  8.,  0.,  0.,  0., 16.,  0.,  0.,  0.,  0.,  0.,\n         0.,  0.,  0.,  0.,  0.,  0.,  0.,  0.,  0.,  0.,  0.,  0.],\n       [ 0.,  0.,  0.,  0.,  0.,  0.,  0.,  0.,  0.,  0.,  0.,  0.,  0.,\n         0.,  0.,  0.,  0.,  0.,  0.,  0.,  0.,  0.,  0.,  0.,  0.,  0.,\n         0.,  0.,  0.,  0.,  0.,  0.,  0.,  0.,  0.,  0.,  0.,  1.,  0.,\n         0.,  0.,  4.,  0.,  0.,  0., 12.,  0.,  0.,  0.,  0.,  0.,  0.,\n         0.,  0.,  0.,  0.,  0.,  0.,  0.,  0.,  0.,  0.,  0.,  0.]])"
     },
     "metadata": {},
     "execution_count": 19
    }
   ],
   "source": [
    "vertice(2,0)"
   ]
  },
  {
   "cell_type": "code",
   "execution_count": 20,
   "metadata": {},
   "outputs": [
    {
     "output_type": "execute_result",
     "data": {
      "text/plain": "array([[  0.,   0.,   0.,   0.,   0.,   0.,   0.,   0.,   0.,   0.,   0.,\n          0.,   0.,   0.,   0.,   0.,   0.,   0.,   0.,   0.,   0.,   0.,\n          0.,   0.,   0.,   0.,   0.,   0.,   0.,   0.,   0.,   0.,   0.,\n          0.,   0.,   0.,   0.,   0.,   0.,   0.,   0.,   0.,   0.,   0.,\n          0.,   0.,   0.,   0.,   1.,   2.,   4.,   8.,   2.,   4.,   8.,\n         16.,   4.,   8.,  16.,  32.,   8.,  16.,  32.,  64.],\n       [  0.,   0.,   0.,   0.,   0.,   0.,   0.,   0.,   0.,   0.,   0.,\n          0.,   0.,   0.,   0.,   0.,   0.,   0.,   0.,   0.,   0.,   0.,\n          0.,   0.,   0.,   0.,   0.,   0.,   0.,   0.,   0.,   0.,   0.,\n          0.,   0.,   0.,   0.,   0.,   0.,   0.,   0.,   0.,   0.,   0.,\n          0.,   0.,   0.,   0.,   0.,   0.,   0.,   0.,   0.,   0.,   0.,\n          0.,   2.,   4.,   8.,  16.,  12.,  24.,  48.,  96.],\n       [  0.,   0.,   0.,   0.,   0.,   0.,   0.,   0.,   0.,   0.,   0.,\n          0.,   0.,   0.,   0.,   0.,   0.,   0.,   0.,   0.,   0.,   0.,\n          0.,   0.,   0.,   0.,   0.,   0.,   0.,   0.,   0.,   0.,   0.,\n          0.,   0.,   0.,   0.,   0.,   0.,   0.,   0.,   0.,   0.,   0.,\n          0.,   0.,   0.,   0.,   0.,   0.,   2.,  12.,   0.,   0.,   4.,\n         24.,   0.,   0.,   8.,  48.,   0.,   0.,  16.,  96.],\n       [  0.,   0.,   0.,   0.,   0.,   0.,   0.,   0.,   0.,   0.,   0.,\n          0.,   0.,   0.,   0.,   0.,   0.,   0.,   0.,   0.,   0.,   0.,\n          0.,   0.,   0.,   0.,   0.,   0.,   0.,   0.,   0.,   0.,   0.,\n          0.,   0.,   0.,   0.,   0.,   0.,   0.,   0.,   0.,   0.,   0.,\n          0.,   0.,   0.,   0.,   0.,   0.,   0.,   0.,   0.,   1.,   4.,\n         12.,   0.,   4.,  16.,  48.,   0.,  12.,  48., 144.]])"
     },
     "metadata": {},
     "execution_count": 20
    }
   ],
   "source": [
    "vertice(2,2)"
   ]
  },
  {
   "cell_type": "markdown",
   "metadata": {},
   "source": [
    "## Aresta"
   ]
  },
  {
   "cell_type": "code",
   "execution_count": 21,
   "metadata": {
    "tags": []
   },
   "outputs": [],
   "source": [
    "def aresta_x(x, y):\n",
    "    coluna, linha = (x - 1 if x > 0 else 0, y - 1 if y > 0 else 0)\n",
    "    range_para_inserir = getRange(coluna, linha)\n",
    "\n",
    "    funcoes_arestas = [\n",
    "        (fx, x, y, True),\n",
    "        (dxdy, x, y, True),\n",
    "        (fx, x, y, coluna + 1, linha, True),\n",
    "        [(dx, x, y, True),(dx, x, y, coluna + 1, linha, False)],\n",
    "        [(dxx, x, y, True),(dxx, x, y, coluna + 1, linha, False)],\n",
    "        (dx, x, y, True),\n",
    "        (dxx, x, y, coluna + 1, linha, True),\n",
    "        (dxdy, x, y, coluna + 1, linha, True),\n",
    "    ]\n",
    "\n",
    "    pols = np.array([])\n",
    "    for item in funcoes_arestas:\n",
    "        if isinstance(item, tuple):\n",
    "            pols = np.append(pols, getLineFromTuple(item))\n",
    "        elif isinstance(item, list):\n",
    "            pols = np.append(pols, getLineFromList(item))\n",
    "\n",
    "    return np.reshape(pols, (-1, polinomio_size))\n"
   ]
  },
  {
   "cell_type": "code",
   "execution_count": 22,
   "metadata": {
    "tags": []
   },
   "outputs": [
    {
     "output_type": "execute_result",
     "data": {
      "text/plain": "[0, 0, 0, 0, 0, 0, 0, 0, 2, 4, 8, 16, 6, 12, 24, 48]"
     },
     "metadata": {},
     "execution_count": 22
    }
   ],
   "source": [
    "dxx(1,2)"
   ]
  },
  {
   "cell_type": "markdown",
   "metadata": {},
   "source": [
    "### Arestas no eixo y"
   ]
  },
  {
   "cell_type": "code",
   "execution_count": 23,
   "metadata": {
    "tags": []
   },
   "outputs": [],
   "source": [
    "def aresta_y(x, y):\n",
    "    coluna, linha = (x - 1 if x > 0 else 0, y - 1 if y > 0 else 0)\n",
    "    range_para_inserir = getRange(coluna, linha)\n",
    "\n",
    "    funcoes_arestas = [\n",
    "        (fx, x, y, True),\n",
    "        (dxdy, x, y, True),\n",
    "        (fx, x, y, coluna, linha + 1,True),\n",
    "        [(dy, x, y, True),(dy, x, y, coluna, linha + 1, False)],\n",
    "        [(dyy, x, y, True),(dyy, x, y, coluna, linha + 1, False)],\n",
    "        (dx, x, y, True),\n",
    "        (dxx, x, y, coluna, linha + 1, True),\n",
    "        (dxdy, x, y, coluna, linha + 1, True),\n",
    "    ]\n",
    "\n",
    "    pols = np.array([])\n",
    "    for item in funcoes_arestas:\n",
    "        if isinstance(item, tuple):\n",
    "            pols = np.append(pols, getLineFromTuple(item))\n",
    "        elif isinstance(item, list):\n",
    "            pols = np.append(pols, getLineFromList(item))\n",
    "    \n",
    "    return np.reshape(pols, (-1, polinomio_size))"
   ]
  },
  {
   "cell_type": "code",
   "execution_count": 24,
   "metadata": {
    "tags": []
   },
   "outputs": [
    {
     "output_type": "stream",
     "name": "stdout",
     "text": "[  0.   0.   0.   0.   0.   0.   0.   0.   0.   0.   0.   0.   0.   0.\n   0.   0.   0.   0.   2.  12.   0.   0.   2.  12.   0.   0.   2.  12.\n   0.   0.   2.  12.   0.   0.  -2. -12.   0.   0.  -2. -12.   0.   0.\n  -2. -12.   0.   0.  -2. -12.   0.   0.   0.   0.   0.   0.   0.   0.\n   0.   0.   0.   0.   0.   0.   0.   0.]\n"
    }
   ],
   "source": [
    "x = 1\n",
    "y = 2\n",
    "\n",
    "r = aresta_y(x, y)\n",
    "print(r[4])"
   ]
  },
  {
   "cell_type": "markdown",
   "metadata": {},
   "source": [
    "## Pontos Internos"
   ]
  },
  {
   "cell_type": "code",
   "execution_count": 38,
   "metadata": {
    "tags": []
   },
   "outputs": [],
   "source": [
    "def interno(x, y):\n",
    "    coluna, linha = (x - 1 if x > 0 else 0, y - 1 if y > 0 else 0)\n",
    "    range_para_inserir = getRange(coluna, linha)\n",
    "\n",
    "    funcoes_interna = [\n",
    "        # f(x) de todas as regioes\n",
    "        (fx, x, y, True),\n",
    "        (fx, x, y, coluna + 1, linha, True),\n",
    "        (fx, x, y, coluna, linha + 1, True),\n",
    "        (fx, x, y, coluna + 1, linha + 1, True),\n",
    "        # dxdy(x) de todas as regioes\n",
    "        (dxdy, x, y, True),\n",
    "        (dxdy, x, y, coluna + 1, linha, True),\n",
    "        (dxdy, x, y, coluna, linha + 1, True),\n",
    "        (dxdy, x, y, coluna + 1, linha + 1, True),\n",
    "        # dx de todas as regioes em 2 linhas\n",
    "        [(dx, x, y, True),(dx, x, y, coluna, linha + 1, False)],\n",
    "        [(dx, x, y, coluna + 1, linha, True),(dx, x, y, coluna + 1, linha + 1, False)],\n",
    "        # dy de todas as regioes em 2 linhas\n",
    "        [(dy, x, y, True),(dy, x, y, coluna, linha + 1, False)],\n",
    "        [(dy, x, y, coluna, linha + 1, True),(dy, x, y, coluna + 1, linha + 1, False)],\n",
    "        # dxx de todas as regioes em 2 linhas\n",
    "        [(dxx, x, y, True),(dxx, x, y, coluna, linha + 1, False)],\n",
    "        [(dxx, x, y, coluna + 1, linha, True),(dxx, x, y, coluna + 1, linha + 1, False)],\n",
    "        # dyy de todas as regioes em 2 linhas\n",
    "        [(dyy, x, y, True),(dyy, x, y, coluna, linha + 1, False)],\n",
    "        [(dyy, x, y, coluna, linha + 1, True),(dyy, x, y, coluna + 1, linha + 1, False)],\n",
    "    ]\n",
    "\n",
    "    pols = np.array([])\n",
    "\n",
    "    for item in funcoes_interna:\n",
    "        if isinstance(item, tuple):\n",
    "            pols = np.append(pols, getLineFromTuple(item))\n",
    "        elif isinstance(item, list):\n",
    "            pols = np.append(pols, getLineFromList(item))\n",
    "    \n",
    "    return np.reshape(pols, (-1, polinomio_size))"
   ]
  },
  {
   "cell_type": "code",
   "execution_count": 39,
   "metadata": {
    "tags": []
   },
   "outputs": [
    {
     "output_type": "stream",
     "name": "stdout",
     "text": "(16, 64)\n[[ 1.  1.  1. ...  0.  0.  0.]\n [ 0.  0.  0. ...  0.  0.  0.]\n [ 0.  0.  0. ...  0.  0.  0.]\n ...\n [ 0.  0.  0. ... -6. -6. -6.]\n [ 0.  0.  2. ...  0.  0.  0.]\n [ 0.  0.  0. ...  0. -2. -6.]]\n"
    }
   ],
   "source": [
    "\n",
    "r = interno(1, 1)\n",
    "print(r.shape)\n",
    "print(r)"
   ]
  },
  {
   "cell_type": "markdown",
   "metadata": {},
   "source": [
    "# Obtendo a matriz de polinomios"
   ]
  },
  {
   "cell_type": "code",
   "execution_count": 43,
   "metadata": {
    "tags": []
   },
   "outputs": [
    {
     "output_type": "execute_result",
     "data": {
      "text/plain": "(64, 64)"
     },
     "metadata": {},
     "execution_count": 43
    }
   ],
   "source": [
    "def getMatrizPolinomio(matriz):\n",
    "    linhas, colunas = matriz.shape\n",
    "\n",
    "    pol = np.array([])\n",
    "    for x in range(colunas):\n",
    "        for y in range(linhas):\n",
    "            if(column_edge(x, matriz) and line_edge(y, matriz)):\n",
    "                pol = np.append(pol,vertice(x,y))\n",
    "            elif(column_edge(x, matriz)):\n",
    "                pol = np.append(pol,aresta_y(x,y))\n",
    "            elif(line_edge(y, matriz)):\n",
    "                pol = np.append(pol,aresta_x(x,y))\n",
    "            else:\n",
    "                pol = np.append(pol,interno(x,y))\n",
    "    \n",
    "    return np.reshape(pol, (-1, polinomio_size))\n",
    "\n",
    "result = getMatrizPolinomio(matriz)\n",
    "result.shape"
   ]
  },
  {
   "cell_type": "code",
   "execution_count": 68,
   "metadata": {
    "tags": []
   },
   "outputs": [
    {
     "output_type": "stream",
     "name": "stdout",
     "text": "5\n[[1 2 8]\n [1 4 3]\n [1 2 5]]\n"
    }
   ],
   "source": [
    "# print(matriz)\n",
    "print(matriz.item(0,2))\n",
    "print(np.flip(matriz, 0))"
   ]
  }
 ],
 "metadata": {
  "kernelspec": {
   "name": "python_defaultSpec_1597456219622",
   "display_name": "Python 3.8.4 64-bit ('env': venv)"
  }
 },
 "nbformat": 4,
 "nbformat_minor": 4
}